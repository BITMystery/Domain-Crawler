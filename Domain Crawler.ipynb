{
 "cells": [
  {
   "cell_type": "markdown",
   "metadata": {},
   "source": [
    "Domain Crawler crawls rent/sale infomation of a list of suburbs in Sydney from https://www.domain.com.au."
   ]
  },
  {
   "cell_type": "markdown",
   "metadata": {},
   "source": [
    "Target information includes:\n",
    "- address\n",
    "- price\n",
    "- #bedroom\n",
    "- #bathroom\n",
    "- #parking\n",
    "- latitude\n",
    "- longitude\n",
    "- distance to CBD\n",
    "- distance to (nearest) train station\n",
    "\n",
    "Tools:\n",
    "1. requests\n",
    "2. BeautifulSoup\n",
    "3. re\n",
    "4. csv\n",
    "5. geopy"
   ]
  },
  {
   "cell_type": "code",
   "execution_count": 1,
   "metadata": {
    "collapsed": true
   },
   "outputs": [],
   "source": [
    "import requests"
   ]
  },
  {
   "cell_type": "markdown",
   "metadata": {},
   "source": [
    "Test requests.get(), considering the first result page of a specific suburb 'Ashfield NSW 2131' only."
   ]
  },
  {
   "cell_type": "code",
   "execution_count": 2,
   "metadata": {},
   "outputs": [
    {
     "data": {
      "text/plain": [
       "'<!DOCTYPE html><html lang=\"en-AU\" data-tag=\"v1.1.0\" data-commit-id=\"833fcbe19ed5bdb1f3195230036c5e8493ca438b\"><head><meta charset=\"utf-8\"/><meta http-equiv=\"content-language\" content=\"en-au\"/><meta name=\"format-detection\" content=\"telephone=no\"/><meta http-equiv=\"X-UA-Compatible\" content=\"IE=edge\"/><meta name=\"viewport\" content=\"width=device-width, initial-scale=1.0, maximum-scale=1.0, user-scalable=no\"/><link rel=\"dns-prefetch\" href=\"//static.domain.com.au\"/><link rel=\"dns-prefetch\" href=\"//images.domain.com.au\"/><link rel=\"dns-prefetch\" href=\"//fonts.gstatic.com\"/><link rel=\"dns-prefetch\" href=\"//b.domainstatic.com.au\"/><link rel=\"dns-prefetch\" href=\"//mt0.googleapis.com\"/><link rel=\"dns-prefetch\" href=\"//mt1.googleapis.com\"/><link rel=\"dns-prefetch\" href=\"//assets.adobedtm.com\"/><link rel=\"dns-prefetch\" href=\"//renderizr-assets.domainstatic.com.au\"/><meta name=\"apple-mobile-web-app-capable\" content=\"yes\"/><meta name=\"apple-itunes-app\" content=\"app-id=319908646, affiliate-data=270216'"
      ]
     },
     "execution_count": 2,
     "metadata": {},
     "output_type": "execute_result"
    }
   ],
   "source": [
    "url = 'https://www.domain.com.au'\n",
    "r = requests.get('%s/%s/%s' % (url, 'rent', 'ashfield-nsw-2131'))\n",
    "r.content[:1000]"
   ]
  },
  {
   "cell_type": "markdown",
   "metadata": {},
   "source": [
    "Parse an HTML text using BeautifilSoup.\n",
    "\n",
    "If the HTML text is not formatted well, try some online formatter such as https://www.freeformatter.com/html-formatter.html."
   ]
  },
  {
   "cell_type": "code",
   "execution_count": 3,
   "metadata": {
    "collapsed": true
   },
   "outputs": [],
   "source": [
    "from bs4 import BeautifulSoup"
   ]
  },
  {
   "cell_type": "code",
   "execution_count": 4,
   "metadata": {
    "collapsed": true
   },
   "outputs": [],
   "source": [
    "soup = BeautifulSoup(r.content, 'lxml')"
   ]
  },
  {
   "cell_type": "code",
   "execution_count": 5,
   "metadata": {
    "collapsed": true
   },
   "outputs": [],
   "source": [
    "items = soup.find_all('li', {'class': 'search-results__listing'})\n",
    "test_item = items[5]"
   ]
  },
  {
   "cell_type": "markdown",
   "metadata": {},
   "source": [
    "Extract price."
   ]
  },
  {
   "cell_type": "code",
   "execution_count": 6,
   "metadata": {},
   "outputs": [
    {
     "data": {
      "text/plain": [
       "u'$820 PER WEEK '"
      ]
     },
     "execution_count": 6,
     "metadata": {},
     "output_type": "execute_result"
    }
   ],
   "source": [
    "price = test_item.find('p')\n",
    "price.get_text()"
   ]
  },
  {
   "cell_type": "markdown",
   "metadata": {},
   "source": [
    "Extract address."
   ]
  },
  {
   "cell_type": "code",
   "execution_count": 7,
   "metadata": {},
   "outputs": [
    {
     "data": {
      "text/plain": [
       "u'43 Service Avenue,ASHFIELD NSW 2131'"
      ]
     },
     "execution_count": 7,
     "metadata": {},
     "output_type": "execute_result"
    }
   ],
   "source": [
    "address = test_item.find('a')\n",
    "address.get_text()"
   ]
  },
  {
   "cell_type": "markdown",
   "metadata": {},
   "source": [
    "Extract number of bedrooms/bathrooms/parkings."
   ]
  },
  {
   "cell_type": "code",
   "execution_count": 8,
   "metadata": {},
   "outputs": [
    {
     "data": {
      "text/plain": [
       "(u'3 Beds', u'2 Baths', u'4 Parkings')"
      ]
     },
     "execution_count": 8,
     "metadata": {},
     "output_type": "execute_result"
    }
   ],
   "source": [
    "facilities = test_item.find_all('span', {'class': 'property-feature__feature'})\n",
    "bedroom_num = facilities[0].get_text()\n",
    "bathroom_num = facilities[1].get_text()\n",
    "parking_num = facilities[2].get_text()\n",
    "bedroom_num, bathroom_num, parking_num"
   ]
  },
  {
   "cell_type": "markdown",
   "metadata": {},
   "source": [
    "Extract latitude and longitude."
   ]
  },
  {
   "cell_type": "code",
   "execution_count": 9,
   "metadata": {},
   "outputs": [
    {
     "data": {
      "text/plain": [
       "('-33.90254', '151.12793')"
      ]
     },
     "execution_count": 9,
     "metadata": {},
     "output_type": "execute_result"
    }
   ],
   "source": [
    "lat = test_item.find('meta', {'itemprop': 'latitude'})\n",
    "lng = test_item.find('meta', {'itemprop': 'longitude'})\n",
    "if lat:\n",
    "    lat = lat['content']\n",
    "if lng:\n",
    "    lng = lng['content']\n",
    "lat, lng"
   ]
  },
  {
   "cell_type": "markdown",
   "metadata": {},
   "source": [
    "Extract all rent info."
   ]
  },
  {
   "cell_type": "code",
   "execution_count": 10,
   "metadata": {},
   "outputs": [
    {
     "data": {
      "text/plain": [
       "[[u'406/1 Victoria Street,ASHFIELD NSW 2131',\n",
       "  u'$550 ',\n",
       "  u'1 Bed',\n",
       "  u'1 Bath',\n",
       "  u'1 Parking',\n",
       "  '-33.8910065',\n",
       "  '151.129547'],\n",
       " [u'G07/1 Victoria St,ASHFIELD NSW 2131',\n",
       "  u'$575 ',\n",
       "  u'1 Bed',\n",
       "  u'1 Bath',\n",
       "  u'1 Parking',\n",
       "  '-33.8910065',\n",
       "  '151.129547'],\n",
       " [u'12/61-63 Frederick Street,ASHFIELD NSW 2131',\n",
       "  u'DEPOSIT TAKEN ',\n",
       "  u'3 Beds',\n",
       "  u'1 Bath',\n",
       "  u'1 Parking',\n",
       "  '-33.8814774',\n",
       "  '151.122482'],\n",
       " [u'B101/11-13 Hercules Street,ASHFIELD NSW 2131',\n",
       "  u'DEPOSIT TAKEN ',\n",
       "  u'1 Bed',\n",
       "  u'1 Bath',\n",
       "  u'1 Parking',\n",
       "  '-33.888092',\n",
       "  '151.125031'],\n",
       " [u'43 Service Avenue,ASHFIELD NSW 2131',\n",
       "  u'$820 PER WEEK ',\n",
       "  u'3 Beds',\n",
       "  u'2 Baths',\n",
       "  u'4 Parkings',\n",
       "  '-33.90254',\n",
       "  '151.12793']]"
      ]
     },
     "execution_count": 10,
     "metadata": {},
     "output_type": "execute_result"
    }
   ],
   "source": [
    "info_list = []\n",
    "\n",
    "for item in items:\n",
    "    address = item.find('a')\n",
    "    price = item.find('p')\n",
    "    facilities = item.find_all('span', {'class': 'property-feature__feature'})\n",
    "    if len(facilities) != 3:\n",
    "        continue\n",
    "    [bedroom_num, bathroom_num, parking_num] = facilities\n",
    "    lat = item.find('meta', {'itemprop': 'latitude'})\n",
    "    lng = item.find('meta', {'itemprop': 'longitude'})\n",
    "    if lat:\n",
    "        lat = lat['content']\n",
    "    if lng:\n",
    "        lng = lng['content']\n",
    "        \n",
    "    if address and price and bedroom_num and bathroom_num and parking_num and lat and lng:\n",
    "        info_list.append([\n",
    "            address.get_text(),\n",
    "            price.get_text(),\n",
    "            bedroom_num.get_text(),\n",
    "            bathroom_num.get_text(),\n",
    "            parking_num.get_text(),\n",
    "            lat,\n",
    "            lng\n",
    "        ])\n",
    "info_list[:5]"
   ]
  },
  {
   "cell_type": "markdown",
   "metadata": {},
   "source": [
    "Now let's craw rent info for a list of popular suburbs."
   ]
  },
  {
   "cell_type": "code",
   "execution_count": 11,
   "metadata": {
    "collapsed": true
   },
   "outputs": [],
   "source": [
    "suburbs = [\n",
    "    'ashfield-nsw-2131',\n",
    "    'auburn-nsw-2144',\n",
    "    'burwood-nsw-2134',\n",
    "    'campsie-nsw-2194',\n",
    "    'chatswood-nsw-2067',\n",
    "    'eastwood-nsw-2122/',\n",
    "    'epping-nsw-2121',\n",
    "    'haymarket-nsw-2000',\n",
    "    'hurstville-nsw-2220',\n",
    "    'marsfield-nsw-2122',\n",
    "    'mascot-nsw-2020',\n",
    "    'parramatta-nsw-2150',\n",
    "    'rhodes-nsw-2138',\n",
    "    'strathfield-nsw-2135',\n",
    "    'sydney-nsw-2000',\n",
    "    'ultimo-nsw-2007',\n",
    "    'waterloo-nsw-2017',\n",
    "    'zetland-nsw-2017'\n",
    "]"
   ]
  },
  {
   "cell_type": "markdown",
   "metadata": {},
   "source": [
    "Note that there would be multiple result pages for each suburb.\n",
    "\n",
    "Write a function crawl to crawl rent/sale info."
   ]
  },
  {
   "cell_type": "code",
   "execution_count": 12,
   "metadata": {
    "collapsed": true
   },
   "outputs": [],
   "source": [
    "def crawl(url, rent_or_sale, suburbs):\n",
    "    info = {}\n",
    "    for suburb in suburbs:\n",
    "        suburb_name = suburb.split('-')[0]\n",
    "        print 'Crawling %s information of %s...' % (rent_or_sale, suburb_name)\n",
    "        suburb_info = []\n",
    "\n",
    "        page = 1\n",
    "        while True:\n",
    "            r = requests.get('%s/%s/%s/?page=%d' % (url, rent_or_sale, suburb, page))\n",
    "            soup = BeautifulSoup(r.content, 'lxml')\n",
    "            items = soup.find_all('li', {'class': 'search-results__listing'})\n",
    "            if not items:\n",
    "                break\n",
    "            for item in items:\n",
    "                address = item.find('a')\n",
    "                price = item.find('p')\n",
    "                facilities = item.find_all('span', {'class': 'property-feature__feature'})\n",
    "                if len(facilities) != 3:\n",
    "                    continue\n",
    "                [bedroom_num, bathroom_num, parking_num] = facilities\n",
    "                lat = item.find('meta', {'itemprop': 'latitude'})\n",
    "                lng = item.find('meta', {'itemprop': 'longitude'})\n",
    "                if lat:\n",
    "                    lat = lat['content']\n",
    "                if lng:\n",
    "                    lng = lng['content']\n",
    "\n",
    "                if address and price and bedroom_num and bathroom_num and parking_num and lat and lng:\n",
    "                    suburb_info.append([\n",
    "                        address.get_text(),\n",
    "                        price.get_text(),\n",
    "                        bedroom_num.get_text(),\n",
    "                        bathroom_num.get_text(),\n",
    "                        parking_num.get_text(),\n",
    "                        lat,\n",
    "                        lng\n",
    "                    ])\n",
    "            page += 1\n",
    "\n",
    "        info[suburb_name] = suburb_info\n",
    "    \n",
    "    return info"
   ]
  },
  {
   "cell_type": "markdown",
   "metadata": {},
   "source": [
    "Crawl rent info into rent_info. Crawl sale info into sale_info."
   ]
  },
  {
   "cell_type": "code",
   "execution_count": 13,
   "metadata": {},
   "outputs": [
    {
     "name": "stdout",
     "output_type": "stream",
     "text": [
      "Crawling rent information of ashfield...\n",
      "Crawling rent information of auburn...\n",
      "Crawling rent information of burwood...\n",
      "Crawling rent information of campsie...\n",
      "Crawling rent information of chatswood...\n",
      "Crawling rent information of eastwood...\n",
      "Crawling rent information of epping...\n",
      "Crawling rent information of haymarket...\n",
      "Crawling rent information of hurstville...\n",
      "Crawling rent information of marsfield...\n",
      "Crawling rent information of mascot...\n",
      "Crawling rent information of parramatta...\n",
      "Crawling rent information of rhodes...\n",
      "Crawling rent information of strathfield...\n",
      "Crawling rent information of sydney...\n",
      "Crawling rent information of ultimo...\n",
      "Crawling rent information of waterloo...\n",
      "Crawling rent information of zetland...\n",
      "Crawling sale information of ashfield...\n",
      "Crawling sale information of auburn...\n",
      "Crawling sale information of burwood...\n",
      "Crawling sale information of campsie...\n",
      "Crawling sale information of chatswood...\n",
      "Crawling sale information of eastwood...\n",
      "Crawling sale information of epping...\n",
      "Crawling sale information of haymarket...\n",
      "Crawling sale information of hurstville...\n",
      "Crawling sale information of marsfield...\n",
      "Crawling sale information of mascot...\n",
      "Crawling sale information of parramatta...\n",
      "Crawling sale information of rhodes...\n",
      "Crawling sale information of strathfield...\n",
      "Crawling sale information of sydney...\n",
      "Crawling sale information of ultimo...\n",
      "Crawling sale information of waterloo...\n",
      "Crawling sale information of zetland...\n"
     ]
    }
   ],
   "source": [
    "rent_info = crawl(url, 'rent', suburbs)\n",
    "sale_info = crawl(url, 'sale', suburbs)"
   ]
  },
  {
   "cell_type": "code",
   "execution_count": 14,
   "metadata": {},
   "outputs": [
    {
     "name": "stdout",
     "output_type": "stream",
     "text": [
      "ashfield has 106 rent results and 96 sale results.\n",
      "auburn has 86 rent results and 173 sale results.\n",
      "burwood has 86 rent results and 123 sale results.\n",
      "campsie has 112 rent results and 133 sale results.\n",
      "chatswood has 202 rent results and 114 sale results.\n",
      "eastwood has 66 rent results and 46 sale results.\n",
      "epping has 167 rent results and 175 sale results.\n",
      "haymarket has 25 rent results and 24 sale results.\n",
      "hurstville has 68 rent results and 175 sale results.\n",
      "marsfield has 48 rent results and 15 sale results.\n",
      "mascot has 104 rent results and 117 sale results.\n",
      "parramatta has 236 rent results and 233 sale results.\n",
      "rhodes has 95 rent results and 91 sale results.\n",
      "strathfield has 108 rent results and 113 sale results.\n",
      "sydney has 207 rent results and 175 sale results.\n",
      "ultimo has 24 rent results and 45 sale results.\n",
      "waterloo has 86 rent results and 107 sale results.\n",
      "zetland has 78 rent results and 98 sale results.\n"
     ]
    }
   ],
   "source": [
    "for suburb in suburbs:\n",
    "    suburb_name = suburb.split('-')[0]\n",
    "    print '%s has %d rent results and %d sale results.' % \\\n",
    "        (suburb_name, len(rent_info[suburb_name]), len(sale_info[suburb_name]))"
   ]
  },
  {
   "cell_type": "code",
   "execution_count": 15,
   "metadata": {},
   "outputs": [
    {
     "data": {
      "text/plain": [
       "[[u'79/38 Shoreline Drive,RHODES NSW 2138',\n",
       "  u'$600 per week ',\n",
       "  u'2 Beds',\n",
       "  u'2 Baths',\n",
       "  u'1 Parking',\n",
       "  '-33.8268051',\n",
       "  '151.085068'],\n",
       " [u'606/52-54 Walker st,RHODES NSW 2138',\n",
       "  u'$850 ',\n",
       "  u'3 Beds',\n",
       "  u'2 Baths',\n",
       "  u'2 Parkings',\n",
       "  '-33.8259621',\n",
       "  '151.0871'],\n",
       " [u'721/4 Marquet Street,RHODES NSW 2138',\n",
       "  u'$780 ',\n",
       "  u'2 Beds',\n",
       "  u'2 Baths',\n",
       "  u'1 Parking',\n",
       "  '-33.8299522',\n",
       "  '151.085068'],\n",
       " [u'712/3 Timbrol Ave,RHODES NSW 2138',\n",
       "  u'$730 wk ',\n",
       "  u'2 Beds',\n",
       "  u'2 Baths',\n",
       "  u'1 Parking',\n",
       "  '-33.8263474',\n",
       "  '151.0856'],\n",
       " [u'705/52-54 WALKER STREET,RHODES NSW 2138',\n",
       "  u'$720 ',\n",
       "  u'2 Beds',\n",
       "  u'2 Baths',\n",
       "  u'1 Parking',\n",
       "  '-33.8259621',\n",
       "  '151.0871'],\n",
       " [u'113/56-58 Walker Street,RHODES NSW 2138',\n",
       "  u'$700 ',\n",
       "  u'2 Beds',\n",
       "  u'2 Baths',\n",
       "  u'1 Parking',\n",
       "  '-33.82507',\n",
       "  '151.0873'],\n",
       " [u'205/11 Lewis Ave,RHODES NSW 2138',\n",
       "  u'$700 wk ',\n",
       "  u'2 Beds',\n",
       "  u'2 Baths',\n",
       "  u'1 Parking',\n",
       "  '-33.8338661',\n",
       "  '151.083771'],\n",
       " [u'405/44 Shoreline Drive,RHODES NSW 2138',\n",
       "  u'$695 ',\n",
       "  u'2 Beds',\n",
       "  u'2 Baths',\n",
       "  u'1 Parking',\n",
       "  '-33.8248634',\n",
       "  '151.086243'],\n",
       " [u'1601/52-54 WALKER STREET,RHODES NSW 2138',\n",
       "  u'$690 ',\n",
       "  u'2 Beds',\n",
       "  u'2 Baths',\n",
       "  u'1 Parking',\n",
       "  '-33.8259621',\n",
       "  '151.0871'],\n",
       " [u'402/12 Shoreline Dr,RHODES NSW 2138',\n",
       "  u'$680 wk ',\n",
       "  u'2 Beds',\n",
       "  u'2 Baths',\n",
       "  u'1 Parking',\n",
       "  '-33.83302',\n",
       "  '151.083923']]"
      ]
     },
     "execution_count": 15,
     "metadata": {},
     "output_type": "execute_result"
    }
   ],
   "source": [
    "rent_info['rhodes'][:10]"
   ]
  },
  {
   "cell_type": "markdown",
   "metadata": {},
   "source": [
    "From the result we can see that the format is not uniform.\n",
    "\n",
    "E.g., some prices contain 'PW' or 'Per Week' while some are not.\n",
    "\n",
    "Write a function data_format to format them."
   ]
  },
  {
   "cell_type": "code",
   "execution_count": 16,
   "metadata": {
    "collapsed": true
   },
   "outputs": [],
   "source": [
    "import re"
   ]
  },
  {
   "cell_type": "code",
   "execution_count": 29,
   "metadata": {
    "collapsed": true
   },
   "outputs": [],
   "source": [
    "def data_format(info, rent_or_sale):\n",
    "    formatted_info = []\n",
    "    for suburb_name, suburb_info in info.items():\n",
    "        for item in suburb_info:\n",
    "            try:\n",
    "                address = item[0].split(',')\n",
    "                address = ' '.join(address).encode('utf-8')\n",
    "                \n",
    "                price = re.sub('[, ]', '', item[1])\n",
    "                price = re.search('[\\d.]+[mM]*', price)\n",
    "                if not price:\n",
    "                    price = None\n",
    "                else:\n",
    "                    price = price.group()\n",
    "                    if all([not c in '1234567890' for c in price]):\n",
    "                        price = None\n",
    "                    else:\n",
    "                        if price[-1] in 'mM':\n",
    "                            price = int(float(price[:-1])) * 1000000\n",
    "                        else:\n",
    "                            price = int(float(price))\n",
    "                        if rent_or_sale == 'rent' and not 10 < price < 5000:\n",
    "                            price = None\n",
    "                        if rent_or_sale == 'sale' and not 100000 < price < 5000000:\n",
    "                            price = None\n",
    "                \n",
    "                bedroom_num = item[2].split()[0]\n",
    "                if not bedroom_num.isdigit():\n",
    "                    bedroom_num = None\n",
    "                else:\n",
    "                    bedroom_num = int(bedroom_num)\n",
    "                \n",
    "                bathroom_num = item[3].split()[0]\n",
    "                if not bathroom_num.isdigit():\n",
    "                    bathroom_num = None\n",
    "                else:\n",
    "                    bathroom_num = int(bathroom_num)\n",
    "                \n",
    "                parking_num = item[4].split()[0]\n",
    "                if not parking_num.isdigit():\n",
    "                    parking_num = None\n",
    "                else:\n",
    "                    parking_num = int(parking_num)\n",
    "                \n",
    "                lat, lng = round(float(item[5]), 7), round(float(item[6]), 7)\n",
    "                    \n",
    "            except ValueError as e:\n",
    "                print e\n",
    "                \n",
    "            formatted_info.append([suburb_name,\n",
    "                                   address,\n",
    "                                   price,\n",
    "                                   bedroom_num,\n",
    "                                   bathroom_num,\n",
    "                                   parking_num,\n",
    "                                   lat,\n",
    "                                   lng,\n",
    "                                   None,\n",
    "                                   None])\n",
    "    \n",
    "    return formatted_info"
   ]
  },
  {
   "cell_type": "code",
   "execution_count": 30,
   "metadata": {},
   "outputs": [],
   "source": [
    "formatted_rent_info = data_format(rent_info, 'rent')\n",
    "formatted_sale_info = data_format(sale_info, 'sale')"
   ]
  },
  {
   "cell_type": "markdown",
   "metadata": {},
   "source": [
    "Obtain latitude/longtitude of sydney CBD and each suburb train stations."
   ]
  },
  {
   "cell_type": "markdown",
   "metadata": {},
   "source": [
    "Set sydney town hall as a representative address of sydney CBD."
   ]
  },
  {
   "cell_type": "code",
   "execution_count": 19,
   "metadata": {
    "collapsed": true
   },
   "outputs": [],
   "source": [
    "cbd_address = 'sydney town hall'"
   ]
  },
  {
   "cell_type": "code",
   "execution_count": 20,
   "metadata": {
    "collapsed": true
   },
   "outputs": [],
   "source": [
    "from geopy.geocoders import GoogleV3"
   ]
  },
  {
   "cell_type": "code",
   "execution_count": 21,
   "metadata": {},
   "outputs": [
    {
     "data": {
      "text/plain": [
       "(-33.8731575, 151.2061157)"
      ]
     },
     "execution_count": 21,
     "metadata": {},
     "output_type": "execute_result"
    }
   ],
   "source": [
    "geolocator = GoogleV3()\n",
    "cbd_location = geolocator.geocode(cbd_address)\n",
    "cbd_lat, cbd_lng = cbd_location.latitude, cbd_location.longitude\n",
    "cbd_lat, cbd_lng"
   ]
  },
  {
   "cell_type": "code",
   "execution_count": 22,
   "metadata": {
    "scrolled": true
   },
   "outputs": [
    {
     "name": "stdout",
     "output_type": "stream",
     "text": [
      "ashfield -33.8876216 151.1257964\n",
      "auburn -33.8492228 151.0329196\n",
      "burwood -33.8770228 151.103898\n",
      "campsie -33.9104555 151.1032614\n",
      "chatswood -33.7970939 151.1808943\n",
      "eastwood -33.7901317 151.0822352\n",
      "epping -33.7727449 151.082121\n",
      "haymarket -33.878496 151.2090002\n",
      "hurstville -33.9676282 151.1023145\n",
      "marsfield -33.7775092 151.1185824\n",
      "mascot -33.9233749 151.1872747\n",
      "parramatta -33.817225 151.0048271\n",
      "rhodes -33.8305698 151.0870736\n",
      "strathfield -33.871672 151.0942856\n",
      "sydney -33.8613056 151.2108216\n",
      "ultimo -33.8825462 151.2015489\n",
      "waterloo -33.899479 151.211378\n",
      "zetland -33.906269 151.2024366\n"
     ]
    }
   ],
   "source": [
    "suburb_stations = {}\n",
    "for suburb in suburbs:\n",
    "    suburb_name = suburb.split('-')[0]\n",
    "    suburb_station_address = suburb_name + ' station, sydney'\n",
    "    try:\n",
    "        suburb_station_location = geolocator.geocode(suburb_station_address)\n",
    "    except:\n",
    "        print 'Cannot find \\'%s\\'' % suburb_station_address\n",
    "    suburb_station_lat = round(suburb_station_location.latitude, 7) if suburb_station_location else None\n",
    "    suburb_station_lng = round(suburb_station_location.longitude, 7) if  suburb_station_location else None\n",
    "    suburb_stations[suburb_name] = (suburb_station_lat, suburb_station_lng)\n",
    "    print suburb_name, suburb_station_lat, suburb_station_lng"
   ]
  },
  {
   "cell_type": "markdown",
   "metadata": {},
   "source": [
    "Store train station locations into a csv file for future use."
   ]
  },
  {
   "cell_type": "code",
   "execution_count": 23,
   "metadata": {
    "collapsed": true
   },
   "outputs": [],
   "source": [
    "import csv"
   ]
  },
  {
   "cell_type": "code",
   "execution_count": 24,
   "metadata": {
    "collapsed": true
   },
   "outputs": [],
   "source": [
    "headers = ['Suburb', 'Latitude', 'Longitude']\n",
    "\n",
    "with open('station_locations.csv','w') as f:\n",
    "    f_csv = csv.writer(f)\n",
    "    f_csv.writerow(headers)\n",
    "    f_csv.writerows([(suburb_name, location[0], location[1]) for suburb_name, location in suburb_stations.items()])"
   ]
  },
  {
   "cell_type": "markdown",
   "metadata": {},
   "source": [
    "Write a function calculate_distance to calculate each property's distance to sydney CBD and nearest train station.\n",
    "\n",
    "Assume a property's nearest train station is its suburb's train station."
   ]
  },
  {
   "cell_type": "code",
   "execution_count": 25,
   "metadata": {
    "collapsed": true
   },
   "outputs": [],
   "source": [
    "from geopy.distance import vincenty"
   ]
  },
  {
   "cell_type": "code",
   "execution_count": 26,
   "metadata": {
    "collapsed": true
   },
   "outputs": [],
   "source": [
    "def calculate_distance(data, cbd_lat, cbd_lng, suburb_stations):\n",
    "    cbd_location = (cbd_lat, cbd_lng)\n",
    "    for item in data:\n",
    "        suburb_name, lat, lng = item[0], item[6], item[7]\n",
    "        property_location = (lat, lng)\n",
    "        suburb_station_location = suburb_stations[suburb_name]\n",
    "        distance_to_cbd = vincenty(property_location, cbd_location).meters\n",
    "        distance_to_station = vincenty(property_location, suburb_station_location).meters\n",
    "        item[-2], item[-1] = distance_to_cbd, distance_to_station\n",
    "    return None"
   ]
  },
  {
   "cell_type": "code",
   "execution_count": 31,
   "metadata": {},
   "outputs": [],
   "source": [
    "calculate_distance(formatted_rent_info, cbd_lat, cbd_lng, suburb_stations)\n",
    "calculate_distance(formatted_sale_info, cbd_lat, cbd_lng, suburb_stations)"
   ]
  },
  {
   "cell_type": "markdown",
   "metadata": {},
   "source": [
    "Write formatted rent_info/sale_info into csv files."
   ]
  },
  {
   "cell_type": "code",
   "execution_count": 32,
   "metadata": {
    "collapsed": true
   },
   "outputs": [],
   "source": [
    "headers = [\n",
    "    'Suburb',\n",
    "    'Address',\n",
    "    'Price',\n",
    "    'Bedrooms',\n",
    "    'Bathrooms',\n",
    "    'Parkings',\n",
    "    'Latitude',\n",
    "    'Longitude',\n",
    "    'Distance_to_CBD',\n",
    "    'Distance_to_station'\n",
    "]\n",
    "\n",
    "with open('rent_data.csv','w') as f:\n",
    "    f_csv = csv.writer(f)\n",
    "    f_csv.writerow(headers)\n",
    "    f_csv.writerows(formatted_rent_info)\n",
    "\n",
    "with open('sale_data.csv','w') as f:\n",
    "    f_csv = csv.writer(f)\n",
    "    f_csv.writerow(headers)\n",
    "    f_csv.writerows(formatted_sale_info)"
   ]
  },
  {
   "cell_type": "code",
   "execution_count": null,
   "metadata": {
    "collapsed": true
   },
   "outputs": [],
   "source": []
  }
 ],
 "metadata": {
  "kernelspec": {
   "display_name": "Python 2",
   "language": "python",
   "name": "python2"
  },
  "language_info": {
   "codemirror_mode": {
    "name": "ipython",
    "version": 2
   },
   "file_extension": ".py",
   "mimetype": "text/x-python",
   "name": "python",
   "nbconvert_exporter": "python",
   "pygments_lexer": "ipython2",
   "version": "2.7.13"
  }
 },
 "nbformat": 4,
 "nbformat_minor": 2
}
